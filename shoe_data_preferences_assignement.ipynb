{
 "cells": [
  {
   "cell_type": "markdown",
   "metadata": {},
   "source": [
    "# Hypothesis Testing  ON A REAL LIFE EXAMPLE"
   ]
  },
  {
   "cell_type": "markdown",
   "metadata": {},
   "source": [
    "From the past 30 years, every day, Nike is recording it’s shoe sales in every major city of India. Among these major cities, Jaipur is also there. You are a Data Analyst working for Rajasthan division of Nike. You have the data of everyday sales of shoes of Nike for the past 30 years (365 * 30 = 10,950 sales figures. Please have a look on the file for all the sales figure of Nike). Usually sales of Nike for Jaipur region fluctuate to some extent up and down but based on the sales figures collected from the past two weeks, you doubt that this is not the usual behaviour of sales figures and it may be the case that it is a sign of sales going down continously. These are sales figures of past two weeks: \n",
    "Day 1    Day 2    Day 3    Day 4    Day 5    Day 6    Day 7    Day 8    Day 9  Day 10  Day 11   Day 12   Day 13   Day 14 \n",
    "2,07,567 1,50,899 1,20,456 1,75,123 2,30,908 1,01,234 1,10,267 1,03,456 98,567 2,75,00 2,15,979 1,11,111 1,90,000 97,034\n",
    "\n",
    "So, you decided to look into the matter further only when you will determine that sales have highly significantly or statistically significantly decreased than the mean sales. If you found that the sales have decreased highly significantly or statistically significantly, you have a reason to doubt that people’s preference regarding Nike Haurache E.D.G.E (a model of Nike Shoe) has increased and people are liking that a lot in comparison to Nike Air Force 1’07 (another model of Nike Shoe) and that Nike is not manufacturing that shoe frequently so that the market demand can be fulfilled. Therefore, that shoe is running out of stock very fast and people are not buying any other shoe in a hope that soon stock will be fulfilled again. Therefore, you decided to take two samples of 500 people each and asked them regarding their shoe preference and you get some data (please see another file for the attachment). Do a hypothesis test first to determine that do really the sales going down or is it just a glitch? If you find that sales are going down then perform another hypothesis test to find out that do people really have a preference for Nike Haurache E.D.G.E shoe. "
   ]
  },
  {
   "cell_type": "code",
   "execution_count": 1,
   "metadata": {},
   "outputs": [],
   "source": [
    "#Importing required libraries that will be used for our project\n",
    "import pandas as pd\n",
    "import numpy as np\n",
    "import matplotlib.pyplot as plt "
   ]
  },
  {
   "cell_type": "code",
   "execution_count": 8,
   "metadata": {},
   "outputs": [],
   "source": [
    "#Reading and importing csv file of sales data.\n",
    "raw_data = pd.read_csv(r\"C:\\Users\\Abhay\\Documents\\machine learning resources\\Assignments\\Assignment 1\\Sale_Data.csv\")"
   ]
  },
  {
   "cell_type": "code",
   "execution_count": 9,
   "metadata": {},
   "outputs": [
    {
     "data": {
      "text/html": [
       "<div>\n",
       "<style scoped>\n",
       "    .dataframe tbody tr th:only-of-type {\n",
       "        vertical-align: middle;\n",
       "    }\n",
       "\n",
       "    .dataframe tbody tr th {\n",
       "        vertical-align: top;\n",
       "    }\n",
       "\n",
       "    .dataframe thead th {\n",
       "        text-align: right;\n",
       "    }\n",
       "</style>\n",
       "<table border=\"1\" class=\"dataframe\">\n",
       "  <thead>\n",
       "    <tr style=\"text-align: right;\">\n",
       "      <th></th>\n",
       "      <th>Unnamed: 0</th>\n",
       "      <th>Sale</th>\n",
       "    </tr>\n",
       "  </thead>\n",
       "  <tbody>\n",
       "    <tr>\n",
       "      <th>0</th>\n",
       "      <td>0</td>\n",
       "      <td>159000.562916</td>\n",
       "    </tr>\n",
       "    <tr>\n",
       "      <th>1</th>\n",
       "      <td>1</td>\n",
       "      <td>167522.521299</td>\n",
       "    </tr>\n",
       "    <tr>\n",
       "      <th>2</th>\n",
       "      <td>2</td>\n",
       "      <td>172103.705363</td>\n",
       "    </tr>\n",
       "    <tr>\n",
       "      <th>3</th>\n",
       "      <td>3</td>\n",
       "      <td>169740.078806</td>\n",
       "    </tr>\n",
       "    <tr>\n",
       "      <th>4</th>\n",
       "      <td>4</td>\n",
       "      <td>156169.964716</td>\n",
       "    </tr>\n",
       "  </tbody>\n",
       "</table>\n",
       "</div>"
      ],
      "text/plain": [
       "   Unnamed: 0           Sale\n",
       "0           0  159000.562916\n",
       "1           1  167522.521299\n",
       "2           2  172103.705363\n",
       "3           3  169740.078806\n",
       "4           4  156169.964716"
      ]
     },
     "execution_count": 9,
     "metadata": {},
     "output_type": "execute_result"
    }
   ],
   "source": [
    "raw_data.head()"
   ]
  },
  {
   "cell_type": "code",
   "execution_count": 10,
   "metadata": {},
   "outputs": [],
   "source": [
    "sales = raw_data ['Sale']"
   ]
  },
  {
   "cell_type": "code",
   "execution_count": 11,
   "metadata": {},
   "outputs": [
    {
     "data": {
      "text/plain": [
       "0        159000.562916\n",
       "1        167522.521299\n",
       "2        172103.705363\n",
       "3        169740.078806\n",
       "4        156169.964716\n",
       "5        154192.540443\n",
       "6        176328.857151\n",
       "7        161676.796466\n",
       "8        190342.329650\n",
       "9        175499.298712\n",
       "10       170675.113592\n",
       "11       161606.102845\n",
       "12       156419.607335\n",
       "13       166796.222339\n",
       "14       179664.326638\n",
       "15       154690.004573\n",
       "16       174551.882436\n",
       "17       157963.397487\n",
       "18       173309.145436\n",
       "19       158662.306163\n",
       "20       136970.799956\n",
       "21       172516.421877\n",
       "22       156372.304428\n",
       "23       180855.379868\n",
       "24       174924.016167\n",
       "25       164966.598760\n",
       "26       171038.208029\n",
       "27       155570.704363\n",
       "28       170337.869052\n",
       "29       163194.199449\n",
       "             ...      \n",
       "10920    162729.361466\n",
       "10921    167490.923226\n",
       "10922    180782.174782\n",
       "10923    171347.424649\n",
       "10924    158928.950995\n",
       "10925    170151.860280\n",
       "10926    179973.182864\n",
       "10927    142535.826129\n",
       "10928    155122.031347\n",
       "10929    166336.188370\n",
       "10930    168459.958090\n",
       "10931    160758.402099\n",
       "10932    175449.762231\n",
       "10933    153638.229638\n",
       "10934    164572.695835\n",
       "10935    155817.595435\n",
       "10936    162640.331489\n",
       "10937    159579.890647\n",
       "10938    165570.893510\n",
       "10939    152327.954533\n",
       "10940    172596.911314\n",
       "10941    165858.210314\n",
       "10942    180023.120131\n",
       "10943    150867.401471\n",
       "10944    167298.365262\n",
       "10945    161061.244825\n",
       "10946    159962.254698\n",
       "10947    159917.367243\n",
       "10948    158870.431478\n",
       "10949    177971.767437\n",
       "Name: Sale, Length: 10950, dtype: float64"
      ]
     },
     "execution_count": 11,
     "metadata": {},
     "output_type": "execute_result"
    }
   ],
   "source": [
    "sales"
   ]
  },
  {
   "cell_type": "markdown",
   "metadata": {},
   "source": [
    "For testing that the change in sales is significant or not we need to carry out a hypothesis test upon our sample data. We will be using Student t-test for our data as we are in small sample module. To carry out the test we need to find out the values of mean and standard deviation of our data. This can be achieved by the use MVU estimator, where we draw random samples from the sales data, calculate mean of these random samples and then plot the frequency distributuion of these sample means. To find the best estimate for mean of the population data we will be taking the point estimate from our sampling distribution. The mean value of our sampling distribution will be the best estimate for our mean value. Similarly, we will calculate the best estimate of our std. deviation of our data using the sampling distribution."
   ]
  },
  {
   "cell_type": "code",
   "execution_count": 12,
   "metadata": {},
   "outputs": [],
   "source": [
    "random_samples = np.random.choice(sales, size=(500,30))"
   ]
  },
  {
   "cell_type": "code",
   "execution_count": 13,
   "metadata": {},
   "outputs": [],
   "source": [
    "random_sample_mean = np.mean(random_samples, axis=1)"
   ]
  },
  {
   "cell_type": "code",
   "execution_count": 14,
   "metadata": {},
   "outputs": [
    {
     "data": {
      "text/plain": [
       "(500,)"
      ]
     },
     "execution_count": 14,
     "metadata": {},
     "output_type": "execute_result"
    }
   ],
   "source": [
    "random_sample_mean.shape"
   ]
  },
  {
   "cell_type": "code",
   "execution_count": 15,
   "metadata": {},
   "outputs": [
    {
     "data": {
      "text/plain": [
       "(array([  8.,  14.,  49., 111., 137., 108.,  52.,  15.,   4.,   2.]),\n",
       " array([159042.98658522, 160374.93646829, 161706.88635136, 163038.83623443,\n",
       "        164370.7861175 , 165702.73600057, 167034.68588364, 168366.63576671,\n",
       "        169698.58564978, 171030.53553285, 172362.48541592]),\n",
       " <a list of 10 Patch objects>)"
      ]
     },
     "execution_count": 15,
     "metadata": {},
     "output_type": "execute_result"
    },
    {
     "data": {
      "image/png": "[encoded data removed]",
      "text/plain": [
       "<Figure size 432x288 with 1 Axes>"
      ]
     },
     "metadata": {
      "needs_background": "light"
     },
     "output_type": "display_data"
    }
   ],
   "source": [
    "plt.hist(random_sample_mean)"
   ]
  },
  {
   "cell_type": "code",
   "execution_count": 16,
   "metadata": {},
   "outputs": [],
   "source": [
    "best_estimate = np.mean(random_sample_mean)"
   ]
  },
  {
   "cell_type": "code",
   "execution_count": 17,
   "metadata": {},
   "outputs": [
    {
     "data": {
      "text/plain": [
       "165029.0477150534"
      ]
     },
     "execution_count": 17,
     "metadata": {},
     "output_type": "execute_result"
    }
   ],
   "source": [
    "best_estimate"
   ]
  },
  {
   "cell_type": "code",
   "execution_count": 18,
   "metadata": {},
   "outputs": [],
   "source": [
    "random_samples_std = np.std(random_samples, axis=1)"
   ]
  },
  {
   "cell_type": "code",
   "execution_count": 19,
   "metadata": {},
   "outputs": [],
   "source": [
    "best_estimate_std = random_samples_std.mean()"
   ]
  },
  {
   "cell_type": "code",
   "execution_count": 20,
   "metadata": {},
   "outputs": [],
   "source": [
    "sample_mean = 138578.6"
   ]
  },
  {
   "cell_type": "code",
   "execution_count": 21,
   "metadata": {},
   "outputs": [
    {
     "data": {
      "text/plain": [
       "9670.006303402888"
      ]
     },
     "execution_count": 21,
     "metadata": {},
     "output_type": "execute_result"
    }
   ],
   "source": [
    "best_estimate_std"
   ]
  },
  {
   "cell_type": "markdown",
   "metadata": {},
   "source": [
    "We have estimated the values of mean and std. deviation of our data. Now we will perform student t-test for our data to check if there is a significant difference in the sales or was it just a glitch. We need to calculate the value of t-statistic and then compare our value with that in the table. Thus we have 2 hypothesis,\n",
    "\n",
    "            H0 : Null hypothesis - there is no significant difference in sales.\n",
    "            Ha : Alternative hypothesis - there is a significant difference in sales.\n",
    "           \n",
    "To calculate the t-statistic we have the formula:\n",
    " $ t = \\frac{(x-u)}{sigma}$"
   ]
  },
  {
   "cell_type": "code",
   "execution_count": 22,
   "metadata": {},
   "outputs": [],
   "source": [
    "t = (best_estimate - sample_mean)/(best_estimate_std/np.sqrt(7))"
   ]
  },
  {
   "cell_type": "code",
   "execution_count": 23,
   "metadata": {},
   "outputs": [
    {
     "data": {
      "text/plain": [
       "7.236945305373938"
      ]
     },
     "execution_count": 23,
     "metadata": {},
     "output_type": "execute_result"
    }
   ],
   "source": [
    "t"
   ]
  },
  {
   "cell_type": "markdown",
   "metadata": {},
   "source": [
    "The value of our calculated t-statistic exceeds the value from the table, so we will be accepting the Ha hypothesis, that is, there is a significant difference between the sales and it is not just a glitch.\n",
    "Furthermore, we need to look if people have preference of Nike Haurache over Nike Airforce. To check for this we need to perform a paired z-test over the data of both these shoes. Here again we will have two hypothesis,\n",
    "\n",
    "        Ho: People does not have any specific preference over Nike Haurache shoe.\n",
    "        Ha: People have a preferece over Nike Haurache shoe.\n",
    "Here we will use the z-statistic to look for the answer because we are in large sample domain.\n",
    "            $ z = \\frac{(p1_cap - p2_cap)}{sqrt(\\frac{p1_cap*q1_cap}{N})+(\\frac{p2_cap*q2_cap}{N})}$"
   ]
  },
  {
   "cell_type": "code",
   "execution_count": 18,
   "metadata": {},
   "outputs": [],
   "source": [
    "sale_preferences = pd.read_csv(r\"C:\\Users\\Abhay\\Desktop\\machine learning resources\\Assignments\\Assignment 1\\Shoe_preference_data.csv\")"
   ]
  },
  {
   "cell_type": "code",
   "execution_count": 20,
   "metadata": {},
   "outputs": [
    {
     "data": {
      "text/html": [
       "<div>\n",
       "<style scoped>\n",
       "    .dataframe tbody tr th:only-of-type {\n",
       "        vertical-align: middle;\n",
       "    }\n",
       "\n",
       "    .dataframe tbody tr th {\n",
       "        vertical-align: top;\n",
       "    }\n",
       "\n",
       "    .dataframe thead th {\n",
       "        text-align: right;\n",
       "    }\n",
       "</style>\n",
       "<table border=\"1\" class=\"dataframe\">\n",
       "  <thead>\n",
       "    <tr style=\"text-align: right;\">\n",
       "      <th></th>\n",
       "      <th>Unnamed: 0</th>\n",
       "      <th>Prefer Nike Air Force</th>\n",
       "      <th>Prefer Nike Air Vapormax</th>\n",
       "      <th>Prefer Nike Epic React Flyknit</th>\n",
       "      <th>Prefer Nike Haurache</th>\n",
       "      <th>Prefer Nike Zoom Pegasus</th>\n",
       "    </tr>\n",
       "  </thead>\n",
       "  <tbody>\n",
       "    <tr>\n",
       "      <th>0</th>\n",
       "      <td>0</td>\n",
       "      <td>0</td>\n",
       "      <td>1</td>\n",
       "      <td>1</td>\n",
       "      <td>1</td>\n",
       "      <td>0</td>\n",
       "    </tr>\n",
       "    <tr>\n",
       "      <th>1</th>\n",
       "      <td>1</td>\n",
       "      <td>1</td>\n",
       "      <td>0</td>\n",
       "      <td>1</td>\n",
       "      <td>1</td>\n",
       "      <td>0</td>\n",
       "    </tr>\n",
       "    <tr>\n",
       "      <th>2</th>\n",
       "      <td>2</td>\n",
       "      <td>0</td>\n",
       "      <td>1</td>\n",
       "      <td>1</td>\n",
       "      <td>1</td>\n",
       "      <td>1</td>\n",
       "    </tr>\n",
       "    <tr>\n",
       "      <th>3</th>\n",
       "      <td>3</td>\n",
       "      <td>1</td>\n",
       "      <td>0</td>\n",
       "      <td>1</td>\n",
       "      <td>1</td>\n",
       "      <td>0</td>\n",
       "    </tr>\n",
       "    <tr>\n",
       "      <th>4</th>\n",
       "      <td>4</td>\n",
       "      <td>0</td>\n",
       "      <td>1</td>\n",
       "      <td>1</td>\n",
       "      <td>1</td>\n",
       "      <td>1</td>\n",
       "    </tr>\n",
       "  </tbody>\n",
       "</table>\n",
       "</div>"
      ],
      "text/plain": [
       "   Unnamed: 0  Prefer Nike Air Force  Prefer Nike Air Vapormax  \\\n",
       "0           0                      0                         1   \n",
       "1           1                      1                         0   \n",
       "2           2                      0                         1   \n",
       "3           3                      1                         0   \n",
       "4           4                      0                         1   \n",
       "\n",
       "   Prefer Nike Epic React Flyknit  Prefer Nike Haurache  \\\n",
       "0                               1                     1   \n",
       "1                               1                     1   \n",
       "2                               1                     1   \n",
       "3                               1                     1   \n",
       "4                               1                     1   \n",
       "\n",
       "   Prefer Nike Zoom Pegasus  \n",
       "0                         0  \n",
       "1                         0  \n",
       "2                         1  \n",
       "3                         0  \n",
       "4                         1  "
      ]
     },
     "execution_count": 20,
     "metadata": {},
     "output_type": "execute_result"
    }
   ],
   "source": [
    "sale_preferences.head()"
   ]
  },
  {
   "cell_type": "code",
   "execution_count": 27,
   "metadata": {},
   "outputs": [],
   "source": [
    "nike_haurache_p_cap = np.count_nonzero(sale_preferences['Prefer Nike Haurache'])/500"
   ]
  },
  {
   "cell_type": "code",
   "execution_count": 28,
   "metadata": {},
   "outputs": [
    {
     "data": {
      "text/plain": [
       "0.732"
      ]
     },
     "execution_count": 28,
     "metadata": {},
     "output_type": "execute_result"
    }
   ],
   "source": [
    "nike_haurache_p_cap"
   ]
  },
  {
   "cell_type": "code",
   "execution_count": 32,
   "metadata": {},
   "outputs": [],
   "source": [
    "nike_airforce_p_cap = np.count_nonzero(sale_preferences['Prefer Nike Air Force'])/500"
   ]
  },
  {
   "cell_type": "code",
   "execution_count": 33,
   "metadata": {},
   "outputs": [
    {
     "data": {
      "text/plain": [
       "0.442"
      ]
     },
     "execution_count": 33,
     "metadata": {},
     "output_type": "execute_result"
    }
   ],
   "source": [
    "nike_airforce_p_cap"
   ]
  },
  {
   "cell_type": "code",
   "execution_count": 34,
   "metadata": {},
   "outputs": [],
   "source": [
    "nike_haurache_q_cap = 1-nike_haurache_p_cap"
   ]
  },
  {
   "cell_type": "code",
   "execution_count": 35,
   "metadata": {},
   "outputs": [],
   "source": [
    "nike_airforce_q_cap = 1-nike_airforce_p_cap"
   ]
  },
  {
   "cell_type": "code",
   "execution_count": 36,
   "metadata": {},
   "outputs": [],
   "source": [
    "z_test = (nike_haurache_p_cap - nike_airforce_p_cap)/(np.sqrt((nike_haurache_p_cap*nike_haurache_q_cap)/500) + (nike_airforce_p_cap*nike_airforce_q_cap)/500)"
   ]
  },
  {
   "cell_type": "code",
   "execution_count": 37,
   "metadata": {},
   "outputs": [
    {
     "data": {
      "text/plain": [
       "14.284905590507856"
      ]
     },
     "execution_count": 37,
     "metadata": {},
     "output_type": "execute_result"
    }
   ],
   "source": [
    "z_test"
   ]
  },
  {
   "cell_type": "markdown",
   "metadata": {},
   "source": [
    "Here we can see that the value of calculated z-statistic is far away from the value of z-statistic of the table, so we are accepting Ha, hence people have preference over Nike Haurache shoe."
   ]
  },
  {
   "cell_type": "code",
   "execution_count": null,
   "metadata": {},
   "outputs": [],
   "source": []
  }
 ],
 "metadata": {
  "kernelspec": {
   "display_name": "Python 3",
   "language": "python",
   "name": "python3"
  },
  "language_info": {
   "codemirror_mode": {
    "name": "ipython",
    "version": 3
   },
   "file_extension": ".py",
   "mimetype": "text/x-python",
   "name": "python",
   "nbconvert_exporter": "python",
   "pygments_lexer": "ipython3",
   "version": "3.7.0"
  }
 },
 "nbformat": 4,
 "nbformat_minor": 2
}
